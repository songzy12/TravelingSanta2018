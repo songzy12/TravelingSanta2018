{
 "cells": [
  {
   "cell_type": "code",
   "execution_count": null,
   "metadata": {
    "_cell_guid": "b1076dfc-b9ad-4769-8c92-a6c4dae69d19",
    "_uuid": "8f2839f25d086af736a60e9eeb907d3b93b6e0e5"
   },
   "outputs": [],
   "source": [
    "import numpy as np # linear algebra\n",
    "import pandas as pd # data processing, CSV file I/O (e.g. pd.read_csv)\n",
    "from sympy import primerange\n",
    "from itertools import permutations"
   ]
  },
  {
   "cell_type": "code",
   "execution_count": null,
   "metadata": {
    "_uuid": "1049897cb319299fcfbf98aa5cac6417c6c35203"
   },
   "outputs": [],
   "source": [
    "def score_tour(tour):\n",
    "    df = cities.reindex(tour + [0]).reset_index()\n",
    "    df['prime'] = df.CityId.isin(primes).astype(int)\n",
    "    df['dist'] = np.hypot(df.X - df.X.shift(-1), df.Y - df.Y.shift(-1))\n",
    "    df['penalty'] = df['dist'][9::10] * (1 - df['prime'][9::10]) * 0.1\n",
    "    return df.dist.sum() + df.penalty.sum()"
   ]
  },
  {
   "cell_type": "markdown",
   "metadata": {
    "_uuid": "217903b93843667df4d64afe148015904c2f2aee"
   },
   "source": [
    "https://www.kaggle.com/blacksix/concorde-for-5-hours"
   ]
  },
  {
   "cell_type": "code",
   "execution_count": null,
   "metadata": {
    "_uuid": "781ac1dc85b61ef4cc6e85413c8a19d47989eb24",
    "scrolled": true
   },
   "outputs": [],
   "source": [
    "cities = pd.read_csv('../input/traveling-santa-2018-prime-paths/cities.csv', index_col=['CityId'])\n",
    "primes = list(primerange(0, len(cities)))\n",
    "tour = pd.read_csv('../input/concorde-for-5-hours/submission.csv')['Path'].tolist()\n",
    "score_tour(tour)"
   ]
  },
  {
   "cell_type": "code",
   "execution_count": null,
   "metadata": {
    "_cell_guid": "79c7e3d0-c299-4dcb-8224-4455121ee9b0",
    "_uuid": "d629ff2d2480ee46fbb7e2d37f6b5fab8052498a"
   },
   "outputs": [],
   "source": [
    "n = 7\n",
    "\n",
    "def bscore(cand, is_prime, is_tenth):\n",
    "    s = 0.0\n",
    "    for j in range(len(cand)-1):\n",
    "        p = np.hypot(cities.loc[cand[j], 'X'] -\n",
    "                 cities.loc[cand[j+1], 'X'],\n",
    "                 cities.loc[cand[j], 'Y'] -\n",
    "                 cities.loc[cand[j+1], 'Y'])\n",
    "        if is_tenth[j] and not is_prime[cand[j]]:\n",
    "            p = p * 1.1\n",
    "        s += p\n",
    "    return s\n",
    "\n",
    "def riffle(batch,i):\n",
    "    is_prime = {c: c in primes for c in batch}\n",
    "    is_tenth = [(j+1)%10==0 for j in range(i,i+n)]\n",
    "    best = batch\n",
    "    for per in permutations(batch[1:-1]):\n",
    "        perm = [batch[0]]+list(per)+[batch[-1]]\n",
    "        if bscore(perm, is_prime, is_tenth) < bscore(best, is_prime, is_tenth):\n",
    "            best = perm\n",
    "    if best != batch:\n",
    "        return best\n",
    "    else:\n",
    "        return None\n",
    "\n",
    "for i in range(0, len(tour)-n+1):\n",
    "    if i%10000==0:\n",
    "        print(i)\n",
    "    if riffle(tour[i:i+n],i):\n",
    "        print(riffle(tour[i:i+n],i),i)\n",
    "        tour = tour[:i] + riffle(tour[i:i+n],i) + tour[i+n:]"
   ]
  },
  {
   "cell_type": "code",
   "execution_count": null,
   "metadata": {
    "_uuid": "6c9b6113d415d65dc3fa1696e50b85f1ad5d618b"
   },
   "outputs": [],
   "source": [
    "pd.DataFrame({'Path': list(tour)}).to_csv('submission.csv', index=False)\n",
    "score_tour(tour)"
   ]
  }
 ],
 "metadata": {
  "kernelspec": {
   "display_name": "Python 3",
   "language": "python",
   "name": "python3"
  },
  "language_info": {
   "codemirror_mode": {
    "name": "ipython",
    "version": 3
   },
   "file_extension": ".py",
   "mimetype": "text/x-python",
   "name": "python",
   "nbconvert_exporter": "python",
   "pygments_lexer": "ipython3",
   "version": "3.6.5"
  }
 },
 "nbformat": 4,
 "nbformat_minor": 1
}
